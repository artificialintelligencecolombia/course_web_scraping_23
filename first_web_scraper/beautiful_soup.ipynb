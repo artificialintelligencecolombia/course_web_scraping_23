{
 "cells": [
  {
   "cell_type": "code",
   "execution_count": 1,
   "metadata": {},
   "outputs": [],
   "source": [
    "from urllib.request import urlopen # standard python library.\n",
    "from bs4 import BeautifulSoup\n",
    "\n",
    "# urlopen opens a url and reads it. It allows you to fetch the HTML\n",
    "# content of a page with minimal code."
   ]
  },
  {
   "cell_type": "code",
   "execution_count": 2,
   "metadata": {},
   "outputs": [
    {
     "name": "stdout",
     "output_type": "stream",
     "text": [
      "<h1>An Interesting Title</h1>\n",
      "<div>\n",
      "Lorem ipsum dolor sit amet, consectetur adipisicing elit, sed do eiusmod tempor incididunt ut labore et dolore magna aliqua. Ut enim ad minim veniam, quis nostrud exercitation ullamco laboris nisi ut aliquip ex ea commodo consequat. Duis aute irure dolor in reprehenderit in voluptate velit esse cillum dolore eu fugiat nulla pariatur. Excepteur sint occaecat cupidatat non proident, sunt in culpa qui officia deserunt mollit anim id est laborum.\n",
      "</div>\n"
     ]
    }
   ],
   "source": [
    "url = 'https://pythonscraping.com/pages/page1.html'\n",
    "\n",
    "with urlopen(url) as response: # The response var stores the request from urlopen() that retrieves HTML content,\n",
    "                                # header, metadata.\n",
    "    bs = BeautifulSoup(response.read(), 'html.parser') # Parses the response to HTML by BeautifulSoup\n",
    "\n",
    "print(bs.h1)\n",
    "print(bs.div)\n",
    "\n",
    "# 'with' statement act as context manager. It oversees the execution of the code within its block.\n",
    "# The with statement in Python makes sure that the connection is always closed, whether the code inside it\n",
    "# finishes successfully or stops because of an error."
   ]
  },
  {
   "cell_type": "code",
   "execution_count": 18,
   "metadata": {},
   "outputs": [
    {
     "name": "stdout",
     "output_type": "stream",
     "text": [
      "<h2 class=\"H2-kplljn-0 igCxTv title-suggested text-bg mb-4\">Inmuebles Destacados</h2>\n"
     ]
    }
   ],
   "source": [
    "url2 = 'https://www.metrocuadrado.com/'\n",
    "\n",
    "with urlopen(url2) as response:\n",
    "    bs2 = BeautifulSoup(response, 'html.parser') # It makes no difference which parser we use.\n",
    "                                                 # html5lib, lxml parser deals messy data and corrects it.\n",
    "print(bs2.h2)\n",
    "# it doesn't matter that the html tag of the website is nested. It will call the tag element directly.\n"
   ]
  },
  {
   "cell_type": "code",
   "execution_count": null,
   "metadata": {},
   "outputs": [],
   "source": []
  }
 ],
 "metadata": {
  "kernelspec": {
   "display_name": "real_state_mde_env",
   "language": "python",
   "name": "python3"
  },
  "language_info": {
   "codemirror_mode": {
    "name": "ipython",
    "version": 3
   },
   "file_extension": ".py",
   "mimetype": "text/x-python",
   "name": "python",
   "nbconvert_exporter": "python",
   "pygments_lexer": "ipython3",
   "version": "3.11.5"
  }
 },
 "nbformat": 4,
 "nbformat_minor": 2
}
