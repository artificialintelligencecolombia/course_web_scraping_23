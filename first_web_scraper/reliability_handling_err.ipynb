{
 "cells": [
  {
   "cell_type": "code",
   "execution_count": 1,
   "metadata": {},
   "outputs": [],
   "source": [
    "from urllib.request import urlopen # Python module that provides a high-level\n",
    "                                   # interface for fetching data across the\n",
    "from bs4 import BeautifulSoup"
   ]
  },
  {
   "cell_type": "code",
   "execution_count": 2,
   "metadata": {},
   "outputs": [],
   "source": [
    "# Context: when  the scraper is running, its common to hit errors, therefore stops\n",
    "# scraper's execution. Thats why we have to anticipate the exceptions first."
   ]
  },
  {
   "cell_type": "code",
   "execution_count": 7,
   "metadata": {},
   "outputs": [
    {
     "data": {
      "text/plain": [
       "<h1 class=\"H1-xsrgru-0 jdfXCo d-sm-inline-block breadcrumb-item active\">  Inmuebles en Venta en Medellín</h1>"
      ]
     },
     "execution_count": 7,
     "metadata": {},
     "output_type": "execute_result"
    }
   ],
   "source": [
    "# Conventional web scraping\n",
    "\n",
    "url = 'https://www.metrocuadrado.com/venta/medellin/?search=form' # 1.\n",
    "\n",
    "with urlopen(url) as response:\n",
    "    bs = BeautifulSoup(response, 'html.parser')\n",
    "\n",
    "bs.h1\n",
    "\n",
    "# 1.There we could have 2 possible problems:\n",
    "# The page is not found on the server (or there was an error in retrieving it).\n",
    "# Output: \"404: Page not found\", \"500 Internal Server Error\"\n",
    "# The server is not found."
   ]
  },
  {
   "cell_type": "code",
   "execution_count": 8,
   "metadata": {},
   "outputs": [
    {
     "name": "stdout",
     "output_type": "stream",
     "text": [
      "<h1 class=\"H1-xsrgru-0 jdfXCo d-sm-inline-block breadcrumb-item active\">  Inmuebles en Venta en Medellín</h1>\n"
     ]
    }
   ],
   "source": [
    "# HTTP Error hangdling\n",
    "\n",
    "from urllib.error import HTTPError # Handles HTTP errors. The code \n",
    "                                   # can continue to run even if an error arises\n",
    "url = 'https://www.metrocuadrado.com/venta/medellin/?search=form'\n",
    "\n",
    "with urlopen(url) as response: # Closes the connection once the code is executed\n",
    "    try:\n",
    "        bs = BeautifulSoup(response, 'html.parser')\n",
    "    except HTTPError as e:\n",
    "        print(e)\n",
    "        # return null, break, or do some other \"Plan B\"\n",
    "    else:\n",
    "        print(bs.h1)\n",
    "        # program continues. Note: If you return or break in the\n",
    "        # exception catch, you do not need to use the \"else\" statement                                   "
   ]
  },
  {
   "cell_type": "code",
   "execution_count": 11,
   "metadata": {},
   "outputs": [
    {
     "name": "stdout",
     "output_type": "stream",
     "text": [
      "<h1 class=\"H1-xsrgru-0 jdfXCo d-sm-inline-block breadcrumb-item active\">  Inmuebles en Venta en Medellín</h1>\n"
     ]
    }
   ],
   "source": [
    "# HTTP + URL Error handling\n",
    "\n",
    "from urllib.error import URLError # Handles URL errors.\n",
    "\n",
    "\n",
    "url = 'https://www.metrocuadrado.com/venta/medellin/?search=form'\n",
    "\n",
    "with urlopen(url) as response: # Closes the connection once the code is executed\n",
    "    try:\n",
    "        bs = BeautifulSoup(response, 'html.parser')\n",
    "    except HTTPError as e:\n",
    "        print('HTTP error; ',e)\n",
    "    except URLError as e:\n",
    "        print('URL error: ',e)\n",
    "    else:\n",
    "        print(bs.h1)\n",
    "\n",
    "# - HTTPError specifically handles HTTP response errors.\n",
    "# - URLError is more general and catches a broader range of issues related to URL\n",
    "# requests, such as network problems, failed connections, or incorrectly formatted URLs."
   ]
  },
  {
   "cell_type": "code",
   "execution_count": null,
   "metadata": {},
   "outputs": [],
   "source": []
  },
  {
   "cell_type": "code",
   "execution_count": null,
   "metadata": {},
   "outputs": [],
   "source": [
    "# - When web scraping, its important to think the overall pattern for handling\n",
    "# exceptions.\n",
    "# - Reuse code.\n",
    "# - Generic functions such as getSiteHtml or getTitle (with its exception handling)\n",
    "# makes easy to scrape."
   ]
  }
 ],
 "metadata": {
  "kernelspec": {
   "display_name": "base",
   "language": "python",
   "name": "python3"
  },
  "language_info": {
   "codemirror_mode": {
    "name": "ipython",
    "version": 3
   },
   "file_extension": ".py",
   "mimetype": "text/x-python",
   "name": "python",
   "nbconvert_exporter": "python",
   "pygments_lexer": "ipython3",
   "version": "3.11.5"
  }
 },
 "nbformat": 4,
 "nbformat_minor": 2
}
